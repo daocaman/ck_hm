{
 "metadata": {
  "language_info": {
   "codemirror_mode": {
    "name": "ipython",
    "version": 3
   },
   "file_extension": ".py",
   "mimetype": "text/x-python",
   "name": "python",
   "nbconvert_exporter": "python",
   "pygments_lexer": "ipython3",
   "version": "3.7.4-final"
  },
  "orig_nbformat": 2,
  "kernelspec": {
   "name": "python3",
   "display_name": "Python 3"
  }
 },
 "nbformat": 4,
 "nbformat_minor": 2,
 "cells": [
  {
   "cell_type": "code",
   "execution_count": 27,
   "metadata": {},
   "outputs": [],
   "source": [
    "import os\n",
    "import pandas as pd\n",
    "import numpy as np"
   ]
  },
  {
   "cell_type": "code",
   "execution_count": 28,
   "metadata": {},
   "outputs": [
    {
     "output_type": "stream",
     "name": "stdout",
     "text": [
      "<class 'pandas.core.frame.DataFrame'>\nRangeIndex: 30000 entries, 0 to 29999\nData columns (total 25 columns):\n #   Column                      Non-Null Count  Dtype\n---  ------                      --------------  -----\n 0   ID                          30000 non-null  int64\n 1   LIMIT_BAL                   30000 non-null  int64\n 2   SEX                         30000 non-null  int64\n 3   EDUCATION                   30000 non-null  int64\n 4   MARRIAGE                    30000 non-null  int64\n 5   AGE                         30000 non-null  int64\n 6   PAY_0                       30000 non-null  int64\n 7   PAY_2                       30000 non-null  int64\n 8   PAY_3                       30000 non-null  int64\n 9   PAY_4                       30000 non-null  int64\n 10  PAY_5                       30000 non-null  int64\n 11  PAY_6                       30000 non-null  int64\n 12  BILL_AMT1                   30000 non-null  int64\n 13  BILL_AMT2                   30000 non-null  int64\n 14  BILL_AMT3                   30000 non-null  int64\n 15  BILL_AMT4                   30000 non-null  int64\n 16  BILL_AMT5                   30000 non-null  int64\n 17  BILL_AMT6                   30000 non-null  int64\n 18  PAY_AMT1                    30000 non-null  int64\n 19  PAY_AMT2                    30000 non-null  int64\n 20  PAY_AMT3                    30000 non-null  int64\n 21  PAY_AMT4                    30000 non-null  int64\n 22  PAY_AMT5                    30000 non-null  int64\n 23  PAY_AMT6                    30000 non-null  int64\n 24  default payment next month  30000 non-null  int64\ndtypes: int64(25)\nmemory usage: 5.7 MB\n"
     ]
    }
   ],
   "source": [
    "\n",
    "dataset = pd.read_excel('default_of_credit_card_clients.xls', header = 1)\n",
    "dataset.info()"
   ]
  },
  {
   "cell_type": "code",
   "execution_count": 40,
   "metadata": {},
   "outputs": [],
   "source": [
    "model_features = list(set(dataset.columns).difference({\"ID\", \"default payment next month\"}))\n",
    "target = [\"default payment next month\"]\n",
    "X = dataset[model_features]\n",
    "y = dataset[target]\n",
    "\n",
    "id_pos = np.where(y.values.reshape(-1) == 1)[0]\n",
    "id_neg = np.where(y.values.reshape(-1) == 0)[0]\n",
    "\n",
    "np.random.shuffle(id_pos)\n",
    "np.random.shuffle(id_neg)\n",
    "\n",
    "# Tập train:\n",
    "id_train_neg = id_neg[:10000] \n",
    "id_train_pos = id_pos[:500]\n",
    "id_train = np.concatenate((id_train_neg, id_train_pos), axis = 0)\n",
    "\n",
    "# Tập test:\n",
    "id_test_neg = id_neg[10000:12000]\n",
    "id_test_pos = id_pos[500:600]\n",
    "id_test = np.concatenate((id_test_neg, id_test_pos), axis = 0)\n",
    "\n",
    "# khởi tạo dataset\n",
    "data_train = dataset.iloc[id_train]\n",
    "data_test = dataset.iloc[id_test] "
   ]
  },
  {
   "cell_type": "code",
   "execution_count": 41,
   "metadata": {},
   "outputs": [
    {
     "output_type": "stream",
     "name": "stdout",
     "text": [
      "predictions [[0.95473036 0.04526964]\n [0.88503278 0.11496722]\n [0.90639092 0.09360908]\n ...\n [0.87591081 0.12408919]\n [0.96250613 0.03749387]\n [0.97955626 0.02044374]]\nlabel [0 0 0 ... 0 0 0]\nLogistic roc score on test: 0.5914499999999999\nLogistic f1 score on test: 0.0\n"
     ]
    }
   ],
   "source": [
    "from sklearn.linear_model import LogisticRegression\n",
    "from sklearn.metrics import roc_auc_score, f1_score\n",
    "log_reg = LogisticRegression(C = 0.0001)\n",
    "\n",
    "def _train_and_test(model, algo):\n",
    "  model.fit(data_train[model_features], data_train['default payment next month'])\n",
    "  predictions = model.predict_proba(data_test[model_features])\n",
    "  print('predictions',predictions)\n",
    "  pred_label = model.predict(data_test[model_features]) \n",
    "  print('label',pred_label)\n",
    "  roc_score = roc_auc_score(data_test['default payment next month'], predictions[:,1])\n",
    "  model_f1_score = f1_score(data_test['default payment next month'], pred_label)\n",
    "  print('{} roc score on test: {}'.format(algo , roc_score))\n",
    "  print('{} f1 score on test: {}'.format(algo, model_f1_score))\n",
    "  return model\n",
    "\n",
    "log_reg = _train_and_test(log_reg, algo = 'Logistic')"
   ]
  },
  {
   "cell_type": "code",
   "execution_count": null,
   "metadata": {},
   "outputs": [],
   "source": []
  }
 ]
}