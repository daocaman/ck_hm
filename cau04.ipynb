{
  "nbformat": 4,
  "nbformat_minor": 0,
  "metadata": {
    "colab": {
      "name": "cau04.ipynb",
      "provenance": [],
      "collapsed_sections": []
    },
    "kernelspec": {
      "display_name": "Python 3",
      "language": "python",
      "name": "python3"
    },
    "language_info": {
      "codemirror_mode": {
        "name": "ipython",
        "version": 3
      },
      "file_extension": ".py",
      "mimetype": "text/x-python",
      "name": "python",
      "nbconvert_exporter": "python",
      "pygments_lexer": "ipython3",
      "version": "3.7.4-final"
    }
  },
  "cells": [
    {
      "cell_type": "code",
      "metadata": {
        "id": "BQ1ca2nphvSP"
      },
      "source": [
        "import numpy as np\n",
        "import pandas as pd"
      ],
      "execution_count": null,
      "outputs": []
    },
    {
      "cell_type": "code",
      "metadata": {
        "colab": {
          "base_uri": "https://localhost:8080/",
          "height": 221
        },
        "id": "odbM21zthvSP",
        "scrolled": true,
        "outputId": "c869e67c-6a24-43e9-ef39-981d74f22dc5"
      },
      "source": [
        "df = pd.read_csv(\"mushroom.data\")\n",
        "print(df.shape)\n",
        "df.head(5)"
      ],
      "execution_count": null,
      "outputs": [
        {
          "output_type": "stream",
          "text": [
            "(8123, 23)\n"
          ],
          "name": "stdout"
        },
        {
          "output_type": "execute_result",
          "data": {
            "text/html": [
              "<div>\n",
              "<style scoped>\n",
              "    .dataframe tbody tr th:only-of-type {\n",
              "        vertical-align: middle;\n",
              "    }\n",
              "\n",
              "    .dataframe tbody tr th {\n",
              "        vertical-align: top;\n",
              "    }\n",
              "\n",
              "    .dataframe thead th {\n",
              "        text-align: right;\n",
              "    }\n",
              "</style>\n",
              "<table border=\"1\" class=\"dataframe\">\n",
              "  <thead>\n",
              "    <tr style=\"text-align: right;\">\n",
              "      <th></th>\n",
              "      <th>p</th>\n",
              "      <th>x</th>\n",
              "      <th>s</th>\n",
              "      <th>n</th>\n",
              "      <th>t</th>\n",
              "      <th>p.1</th>\n",
              "      <th>f</th>\n",
              "      <th>c</th>\n",
              "      <th>n.1</th>\n",
              "      <th>k</th>\n",
              "      <th>e</th>\n",
              "      <th>e.1</th>\n",
              "      <th>s.1</th>\n",
              "      <th>s.2</th>\n",
              "      <th>w</th>\n",
              "      <th>w.1</th>\n",
              "      <th>p.2</th>\n",
              "      <th>w.2</th>\n",
              "      <th>o</th>\n",
              "      <th>p.3</th>\n",
              "      <th>k.1</th>\n",
              "      <th>s.3</th>\n",
              "      <th>u</th>\n",
              "    </tr>\n",
              "  </thead>\n",
              "  <tbody>\n",
              "    <tr>\n",
              "      <th>0</th>\n",
              "      <td>e</td>\n",
              "      <td>x</td>\n",
              "      <td>s</td>\n",
              "      <td>y</td>\n",
              "      <td>t</td>\n",
              "      <td>a</td>\n",
              "      <td>f</td>\n",
              "      <td>c</td>\n",
              "      <td>b</td>\n",
              "      <td>k</td>\n",
              "      <td>e</td>\n",
              "      <td>c</td>\n",
              "      <td>s</td>\n",
              "      <td>s</td>\n",
              "      <td>w</td>\n",
              "      <td>w</td>\n",
              "      <td>p</td>\n",
              "      <td>w</td>\n",
              "      <td>o</td>\n",
              "      <td>p</td>\n",
              "      <td>n</td>\n",
              "      <td>n</td>\n",
              "      <td>g</td>\n",
              "    </tr>\n",
              "    <tr>\n",
              "      <th>1</th>\n",
              "      <td>e</td>\n",
              "      <td>b</td>\n",
              "      <td>s</td>\n",
              "      <td>w</td>\n",
              "      <td>t</td>\n",
              "      <td>l</td>\n",
              "      <td>f</td>\n",
              "      <td>c</td>\n",
              "      <td>b</td>\n",
              "      <td>n</td>\n",
              "      <td>e</td>\n",
              "      <td>c</td>\n",
              "      <td>s</td>\n",
              "      <td>s</td>\n",
              "      <td>w</td>\n",
              "      <td>w</td>\n",
              "      <td>p</td>\n",
              "      <td>w</td>\n",
              "      <td>o</td>\n",
              "      <td>p</td>\n",
              "      <td>n</td>\n",
              "      <td>n</td>\n",
              "      <td>m</td>\n",
              "    </tr>\n",
              "    <tr>\n",
              "      <th>2</th>\n",
              "      <td>p</td>\n",
              "      <td>x</td>\n",
              "      <td>y</td>\n",
              "      <td>w</td>\n",
              "      <td>t</td>\n",
              "      <td>p</td>\n",
              "      <td>f</td>\n",
              "      <td>c</td>\n",
              "      <td>n</td>\n",
              "      <td>n</td>\n",
              "      <td>e</td>\n",
              "      <td>e</td>\n",
              "      <td>s</td>\n",
              "      <td>s</td>\n",
              "      <td>w</td>\n",
              "      <td>w</td>\n",
              "      <td>p</td>\n",
              "      <td>w</td>\n",
              "      <td>o</td>\n",
              "      <td>p</td>\n",
              "      <td>k</td>\n",
              "      <td>s</td>\n",
              "      <td>u</td>\n",
              "    </tr>\n",
              "    <tr>\n",
              "      <th>3</th>\n",
              "      <td>e</td>\n",
              "      <td>x</td>\n",
              "      <td>s</td>\n",
              "      <td>g</td>\n",
              "      <td>f</td>\n",
              "      <td>n</td>\n",
              "      <td>f</td>\n",
              "      <td>w</td>\n",
              "      <td>b</td>\n",
              "      <td>k</td>\n",
              "      <td>t</td>\n",
              "      <td>e</td>\n",
              "      <td>s</td>\n",
              "      <td>s</td>\n",
              "      <td>w</td>\n",
              "      <td>w</td>\n",
              "      <td>p</td>\n",
              "      <td>w</td>\n",
              "      <td>o</td>\n",
              "      <td>e</td>\n",
              "      <td>n</td>\n",
              "      <td>a</td>\n",
              "      <td>g</td>\n",
              "    </tr>\n",
              "    <tr>\n",
              "      <th>4</th>\n",
              "      <td>e</td>\n",
              "      <td>x</td>\n",
              "      <td>y</td>\n",
              "      <td>y</td>\n",
              "      <td>t</td>\n",
              "      <td>a</td>\n",
              "      <td>f</td>\n",
              "      <td>c</td>\n",
              "      <td>b</td>\n",
              "      <td>n</td>\n",
              "      <td>e</td>\n",
              "      <td>c</td>\n",
              "      <td>s</td>\n",
              "      <td>s</td>\n",
              "      <td>w</td>\n",
              "      <td>w</td>\n",
              "      <td>p</td>\n",
              "      <td>w</td>\n",
              "      <td>o</td>\n",
              "      <td>p</td>\n",
              "      <td>k</td>\n",
              "      <td>n</td>\n",
              "      <td>g</td>\n",
              "    </tr>\n",
              "  </tbody>\n",
              "</table>\n",
              "</div>"
            ],
            "text/plain": [
              "   p  x  s  n  t p.1  f  c n.1  k  e  ... s.1 s.2  w w.1 p.2 w.2  o p.3 k.1 s.3  u\n",
              "0  e  x  s  y  t   a  f  c   b  k  e  ...   s   s  w   w   p   w  o   p   n   n  g\n",
              "1  e  b  s  w  t   l  f  c   b  n  e  ...   s   s  w   w   p   w  o   p   n   n  m\n",
              "2  p  x  y  w  t   p  f  c   n  n  e  ...   s   s  w   w   p   w  o   p   k   s  u\n",
              "3  e  x  s  g  f   n  f  w   b  k  t  ...   s   s  w   w   p   w  o   e   n   a  g\n",
              "4  e  x  y  y  t   a  f  c   b  n  e  ...   s   s  w   w   p   w  o   p   k   n  g\n",
              "\n",
              "[5 rows x 23 columns]"
            ]
          },
          "metadata": {
            "tags": []
          },
          "execution_count": 40
        }
      ]
    },
    {
      "cell_type": "code",
      "metadata": {
        "colab": {
          "base_uri": "https://localhost:8080/"
        },
        "id": "rSSLxKcxhvSQ",
        "outputId": "6f1dbe42-d71f-441f-a36a-71d6f5822789"
      },
      "source": [
        "data = df.values\n",
        "X = data[:,1:-1]\n",
        "y = data[:,0].ravel()\n",
        "print(X[:3])\n",
        "print(y[:3])"
      ],
      "execution_count": null,
      "outputs": [
        {
          "output_type": "stream",
          "text": [
            "[['x' 's' 'y' 't' 'a' 'f' 'c' 'b' 'k' 'e' 'c' 's' 's' 'w' 'w' 'p' 'w' 'o'\n",
            "  'p' 'n' 'n']\n",
            " ['b' 's' 'w' 't' 'l' 'f' 'c' 'b' 'n' 'e' 'c' 's' 's' 'w' 'w' 'p' 'w' 'o'\n",
            "  'p' 'n' 'n']\n",
            " ['x' 'y' 'w' 't' 'p' 'f' 'c' 'n' 'n' 'e' 'e' 's' 's' 'w' 'w' 'p' 'w' 'o'\n",
            "  'p' 'k' 's']]\n",
            "['e' 'e' 'p']\n"
          ],
          "name": "stdout"
        }
      ]
    },
    {
      "cell_type": "code",
      "metadata": {
        "colab": {
          "base_uri": "https://localhost:8080/"
        },
        "id": "HPvqWD30hvSQ",
        "outputId": "73f46e6d-b715-4d5c-c65e-e07cee867e9f"
      },
      "source": [
        "from sklearn.preprocessing import LabelEncoder\n",
        "LE = LabelEncoder()\n",
        "(r, c) = X.shape\n",
        "for i in range(0, c):\n",
        "    X[:,i] =  LE.fit_transform(X[:,i])\n",
        "y = LE.fit_transform(y)\n",
        "print(X)\n",
        "print(y)"
      ],
      "execution_count": null,
      "outputs": [
        {
          "output_type": "stream",
          "text": [
            "[[5 2 9 ... 4 3 2]\n",
            " [0 2 8 ... 4 3 2]\n",
            " [5 3 8 ... 4 2 3]\n",
            " ...\n",
            " [2 2 4 ... 4 0 1]\n",
            " [3 3 4 ... 0 7 4]\n",
            " [5 2 4 ... 4 4 1]]\n",
            "[0 0 1 ... 0 1 0]\n"
          ],
          "name": "stdout"
        }
      ]
    },
    {
      "cell_type": "code",
      "metadata": {
        "colab": {
          "base_uri": "https://localhost:8080/"
        },
        "id": "hPVrye5MhvSQ",
        "outputId": "7d0a38d9-d2df-461a-fe51-2d98e1c3222d"
      },
      "source": [
        "from sklearn.model_selection import train_test_split\n",
        "X_train,X_test,y_train,y_test = train_test_split(X,y,test_size=0.2, random_state=4)\n",
        "print(X_train.shape, y_train.shape)\n",
        "print(X_test.shape, y_test.shape)"
      ],
      "execution_count": null,
      "outputs": [
        {
          "output_type": "stream",
          "text": [
            "(6498, 21) (6498,)\n",
            "(1625, 21) (1625,)\n"
          ],
          "name": "stdout"
        }
      ]
    },
    {
      "cell_type": "code",
      "metadata": {
        "colab": {
          "base_uri": "https://localhost:8080/"
        },
        "id": "Dww0YUgYhvSR",
        "outputId": "71e8f046-a3b7-47c5-c42a-bfec53516069"
      },
      "source": [
        "# KNN\n",
        "from sklearn.neighbors import KNeighborsClassifier\n",
        "from sklearn import metrics\n",
        "\n",
        "k = 5\n",
        "knn = KNeighborsClassifier(n_neighbors=k, metric='euclidean')\n",
        "knn.fit(X_train,y_train)\n",
        "y_predict = knn.predict(X_test)\n",
        "print('y_pred:\\n', y_predict)\n",
        "print('y_true:\\n', y_test)\n",
        "\n",
        "#Tinh do chinh xac\n",
        "acc_score = metrics.accuracy_score(y_predict,y_test)\n",
        "print('acurracy:\\n', acc_score)"
      ],
      "execution_count": null,
      "outputs": [
        {
          "output_type": "stream",
          "text": [
            "y_pred:\n",
            " [0 1 1 ... 0 0 0]\n",
            "y_true:\n",
            " [0 1 1 ... 0 0 0]\n",
            "acurracy:\n",
            " 0.9981538461538462\n"
          ],
          "name": "stdout"
        }
      ]
    },
    {
      "cell_type": "code",
      "metadata": {
        "colab": {
          "base_uri": "https://localhost:8080/"
        },
        "id": "u_UFmuIRhvST",
        "outputId": "6b140a89-636e-488c-e2f8-a5b3fe08de5d"
      },
      "source": [
        "from sklearn.naive_bayes import MultinomialNB\n",
        "import numpy as np \n",
        "\n",
        "clf = MultinomialNB()\n",
        "\n",
        "clf.fit(X_train,y_train)\n",
        "\n",
        "y_pred = clf.predict(X_test)\n",
        "print('y_test',y_test)\n",
        "print('y_pred',y_pred)\n",
        "\n",
        "proba = clf.predict_proba(X_test)\n",
        "print('proba',proba)\n",
        "\n",
        "\n",
        "acc_score_nb = metrics.accuracy_score(y_pred,y_test)\n",
        "print('acurracy:\\n', acc_score_nb)"
      ],
      "execution_count": null,
      "outputs": [
        {
          "output_type": "stream",
          "text": [
            "y_test [0 1 1 ... 0 0 0]\n",
            "y_pred [0 1 0 ... 1 1 0]\n",
            "proba [[9.98818021e-01 1.18197907e-03]\n",
            " [9.20187360e-05 9.99907981e-01]\n",
            " [5.71047654e-01 4.28952346e-01]\n",
            " ...\n",
            " [3.88104104e-01 6.11895896e-01]\n",
            " [8.06093087e-02 9.19390691e-01]\n",
            " [9.98878814e-01 1.12118591e-03]]\n",
            "acurracy:\n",
            " 0.7926153846153846\n"
          ],
          "name": "stdout"
        }
      ]
    },
    {
      "cell_type": "code",
      "metadata": {
        "colab": {
          "base_uri": "https://localhost:8080/"
        },
        "id": "Ud0AR5J9hvST",
        "outputId": "f53a518d-dd90-4cce-ad07-925ac2fdc437"
      },
      "source": [
        "from sklearn import svm\n",
        "\n",
        "svm_classifier = svm.SVC(kernel='linear', gamma=0.01, C=100.)\n",
        "svm_classifier.fit(X_train, y_train)\n",
        "\n",
        "y_pred_svm = svm_classifier.predict(X_test)\n",
        "print('predict:\\n', y_pred_svm)\n",
        "print('y_true:\\n', y_test)\n",
        "\n",
        "acc_score_svm = metrics.accuracy_score(y_pred_svm,y_test)\n",
        "print('acurracy:\\n', acc_score_svm)"
      ],
      "execution_count": null,
      "outputs": [
        {
          "output_type": "stream",
          "text": [
            "predict:\n",
            " [0 1 1 ... 0 1 0]\n",
            "y_true:\n",
            " [0 1 1 ... 0 0 0]\n",
            "acurracy:\n",
            " 0.9587692307692308\n"
          ],
          "name": "stdout"
        }
      ]
    },
    {
      "cell_type": "code",
      "metadata": {
        "colab": {
          "base_uri": "https://localhost:8080/"
        },
        "id": "-uQ6DwwGhvSU",
        "outputId": "a964307a-d750-4604-db30-9a8b28fbf5fa"
      },
      "source": [
        "from sklearn.linear_model import LogisticRegression\n",
        "model = LogisticRegression()\n",
        "model = model.fit(X_train, y_train)\n",
        "y_pred_Logistic = model.predict(X_test)\n",
        "print(y_pred_Logistic)\n",
        "\n",
        "acc_score_logistic = metrics.accuracy_score(y_pred_Logistic, y_test)\n",
        "print('acurracy:\\n', acc_score_logistic)"
      ],
      "execution_count": null,
      "outputs": [
        {
          "output_type": "stream",
          "text": [
            "[0 1 1 ... 0 1 0]\n",
            "acurracy:\n",
            " 0.9575384615384616\n"
          ],
          "name": "stdout"
        },
        {
          "output_type": "stream",
          "text": [
            "/usr/local/lib/python3.6/dist-packages/sklearn/linear_model/_logistic.py:940: ConvergenceWarning: lbfgs failed to converge (status=1):\n",
            "STOP: TOTAL NO. of ITERATIONS REACHED LIMIT.\n",
            "\n",
            "Increase the number of iterations (max_iter) or scale the data as shown in:\n",
            "    https://scikit-learn.org/stable/modules/preprocessing.html\n",
            "Please also refer to the documentation for alternative solver options:\n",
            "    https://scikit-learn.org/stable/modules/linear_model.html#logistic-regression\n",
            "  extra_warning_msg=_LOGISTIC_SOLVER_CONVERGENCE_MSG)\n"
          ],
          "name": "stderr"
        }
      ]
    },
    {
      "cell_type": "code",
      "metadata": {
        "colab": {
          "base_uri": "https://localhost:8080/"
        },
        "id": "24MlflClhvSU",
        "outputId": "0a37fc8e-8b3d-4044-9009-eda9fd12b796"
      },
      "source": [
        "from sklearn.neural_network import MLPClassifier\n",
        "\n",
        "clf = MLPClassifier(hidden_layer_sizes=(100,),  alpha=0.0001,\n",
        "                     verbose=10,  random_state=21, tol=0.000000001)\n",
        "\n",
        "clf.fit(X_train, y_train)\n",
        "scores = model.predict(X_test)\n",
        "\n",
        "print(scores)\n",
        "acc_score_mlp = metrics.accuracy_score(scores, y_test)\n",
        "print('acurracy:\\n', acc_score_mlp)"
      ],
      "execution_count": null,
      "outputs": [
        {
          "output_type": "stream",
          "text": [
            "Iteration 1, loss = 0.50836303\n",
            "Iteration 2, loss = 0.32907039\n",
            "Iteration 3, loss = 0.27318949\n",
            "Iteration 4, loss = 0.23564781\n",
            "Iteration 5, loss = 0.20590429\n",
            "Iteration 6, loss = 0.18005757\n",
            "Iteration 7, loss = 0.15783110\n",
            "Iteration 8, loss = 0.13907835\n",
            "Iteration 9, loss = 0.12280267\n",
            "Iteration 10, loss = 0.10943094\n",
            "Iteration 11, loss = 0.09772985\n",
            "Iteration 12, loss = 0.08646885\n",
            "Iteration 13, loss = 0.07884844\n",
            "Iteration 14, loss = 0.06889947\n",
            "Iteration 15, loss = 0.06234478\n",
            "Iteration 16, loss = 0.05544652\n",
            "Iteration 17, loss = 0.05157610\n",
            "Iteration 18, loss = 0.04753809\n",
            "Iteration 19, loss = 0.04297531\n",
            "Iteration 20, loss = 0.03830823\n",
            "Iteration 21, loss = 0.03548744\n",
            "Iteration 22, loss = 0.03293195\n",
            "Iteration 23, loss = 0.02966449\n",
            "Iteration 24, loss = 0.02759519\n",
            "Iteration 25, loss = 0.02523490\n",
            "Iteration 26, loss = 0.02430387\n",
            "Iteration 27, loss = 0.02195378\n",
            "Iteration 28, loss = 0.02033289\n",
            "Iteration 29, loss = 0.01900646\n",
            "Iteration 30, loss = 0.01755318\n",
            "Iteration 31, loss = 0.01653366\n",
            "Iteration 32, loss = 0.01531781\n",
            "Iteration 33, loss = 0.01367714\n",
            "Iteration 34, loss = 0.01295233\n",
            "Iteration 35, loss = 0.01154452\n",
            "Iteration 36, loss = 0.01084269\n",
            "Iteration 37, loss = 0.01047347\n",
            "Iteration 38, loss = 0.00972942\n",
            "Iteration 39, loss = 0.00900848\n",
            "Iteration 40, loss = 0.00832971\n",
            "Iteration 41, loss = 0.00778588\n",
            "Iteration 42, loss = 0.00728889\n",
            "Iteration 43, loss = 0.00681732\n",
            "Iteration 44, loss = 0.00662034\n",
            "Iteration 45, loss = 0.00627914\n",
            "Iteration 46, loss = 0.00590255\n",
            "Iteration 47, loss = 0.00571027\n",
            "Iteration 48, loss = 0.00531731\n",
            "Iteration 49, loss = 0.00505329\n",
            "Iteration 50, loss = 0.00505525\n",
            "Iteration 51, loss = 0.00467285\n",
            "Iteration 52, loss = 0.00453658\n",
            "Iteration 53, loss = 0.00437718\n",
            "Iteration 54, loss = 0.00404050\n",
            "Iteration 55, loss = 0.00394906\n",
            "Iteration 56, loss = 0.00399558\n",
            "Iteration 57, loss = 0.00361154\n",
            "Iteration 58, loss = 0.00353700\n",
            "Iteration 59, loss = 0.00339518\n",
            "Iteration 60, loss = 0.00323407\n",
            "Iteration 61, loss = 0.00309671\n",
            "Iteration 62, loss = 0.00306167\n",
            "Iteration 63, loss = 0.00297447\n",
            "Iteration 64, loss = 0.00287778\n",
            "Iteration 65, loss = 0.00262921\n",
            "Iteration 66, loss = 0.00262757\n",
            "Iteration 67, loss = 0.00249573\n",
            "Iteration 68, loss = 0.00238050\n",
            "Iteration 69, loss = 0.00230462\n",
            "Iteration 70, loss = 0.00230121\n",
            "Iteration 71, loss = 0.00215808\n",
            "Iteration 72, loss = 0.00213182\n",
            "Iteration 73, loss = 0.00202897\n",
            "Iteration 74, loss = 0.00210994\n",
            "Iteration 75, loss = 0.00195765\n",
            "Iteration 76, loss = 0.00185167\n",
            "Iteration 77, loss = 0.00193970\n",
            "Iteration 78, loss = 0.00184492\n",
            "Iteration 79, loss = 0.00184332\n",
            "Iteration 80, loss = 0.00182601\n",
            "Iteration 81, loss = 0.00164337\n",
            "Iteration 82, loss = 0.00152884\n",
            "Iteration 83, loss = 0.00150234\n",
            "Iteration 84, loss = 0.00148066\n",
            "Iteration 85, loss = 0.00144149\n",
            "Iteration 86, loss = 0.00142831\n",
            "Iteration 87, loss = 0.00139638\n",
            "Iteration 88, loss = 0.00129934\n",
            "Iteration 89, loss = 0.00132294\n",
            "Iteration 90, loss = 0.00124338\n",
            "Iteration 91, loss = 0.00120888\n",
            "Iteration 92, loss = 0.00123137\n",
            "Iteration 93, loss = 0.00115381\n",
            "Iteration 94, loss = 0.00114244\n",
            "Iteration 95, loss = 0.00109884\n",
            "Iteration 96, loss = 0.00110712\n",
            "Iteration 97, loss = 0.00118119\n",
            "Iteration 98, loss = 0.00099042\n",
            "Iteration 99, loss = 0.00097000\n",
            "Iteration 100, loss = 0.00094829\n",
            "Iteration 101, loss = 0.00092685\n",
            "Iteration 102, loss = 0.00098385\n",
            "Iteration 103, loss = 0.00088638\n",
            "Iteration 104, loss = 0.00087623\n",
            "Iteration 105, loss = 0.00090026\n",
            "Iteration 106, loss = 0.00080319\n",
            "Iteration 107, loss = 0.00078748\n",
            "Iteration 108, loss = 0.00079360\n",
            "Iteration 109, loss = 0.00079090\n",
            "Iteration 110, loss = 0.00077691\n",
            "Iteration 111, loss = 0.00073961\n",
            "Iteration 112, loss = 0.00070058\n",
            "Iteration 113, loss = 0.00071693\n",
            "Iteration 114, loss = 0.00072559\n",
            "Iteration 115, loss = 0.00064874\n",
            "Iteration 116, loss = 0.00068096\n",
            "Iteration 117, loss = 0.00063509\n",
            "Iteration 118, loss = 0.00061179\n",
            "Iteration 119, loss = 0.00061677\n",
            "Iteration 120, loss = 0.00059890\n",
            "Iteration 121, loss = 0.00060352\n",
            "Iteration 122, loss = 0.00061707\n",
            "Iteration 123, loss = 0.00058455\n",
            "Iteration 124, loss = 0.00053981\n",
            "Iteration 125, loss = 0.00053656\n",
            "Iteration 126, loss = 0.00053549\n",
            "Iteration 127, loss = 0.00052976\n",
            "Iteration 128, loss = 0.00053057\n",
            "Iteration 129, loss = 0.00047549\n",
            "Iteration 130, loss = 0.00051435\n",
            "Iteration 131, loss = 0.00045904\n",
            "Iteration 132, loss = 0.00047448\n",
            "Iteration 133, loss = 0.00059823\n",
            "Iteration 134, loss = 0.00043493\n",
            "Iteration 135, loss = 0.00043813\n",
            "Iteration 136, loss = 0.00041084\n",
            "Iteration 137, loss = 0.00042852\n",
            "Iteration 138, loss = 0.00041142\n",
            "Iteration 139, loss = 0.00039085\n",
            "Iteration 140, loss = 0.00043392\n",
            "Iteration 141, loss = 0.00038185\n",
            "Iteration 142, loss = 0.00039265\n",
            "Iteration 143, loss = 0.00037126\n",
            "Iteration 144, loss = 0.00035907\n",
            "Iteration 145, loss = 0.00034638\n",
            "Iteration 146, loss = 0.00035450\n",
            "Iteration 147, loss = 0.00035049\n",
            "Iteration 148, loss = 0.00033223\n",
            "Iteration 149, loss = 0.00032458\n",
            "Iteration 150, loss = 0.00032923\n",
            "Iteration 151, loss = 0.00036682\n",
            "Iteration 152, loss = 0.00034479\n",
            "Iteration 153, loss = 0.00030080\n",
            "Iteration 154, loss = 0.00028557\n",
            "Iteration 155, loss = 0.00031961\n",
            "Iteration 156, loss = 0.00028531\n",
            "Iteration 157, loss = 0.00028080\n",
            "Iteration 158, loss = 0.00029854\n",
            "Iteration 159, loss = 0.00028108\n",
            "Iteration 160, loss = 0.00026880\n",
            "Iteration 161, loss = 0.00027072\n",
            "Iteration 162, loss = 0.00026287\n",
            "Iteration 163, loss = 0.00029505\n",
            "Iteration 164, loss = 0.00025405\n",
            "Iteration 165, loss = 0.00024906\n",
            "Iteration 166, loss = 0.00024506\n",
            "Iteration 167, loss = 0.00024662\n",
            "Iteration 168, loss = 0.00024059\n",
            "Iteration 169, loss = 0.00022941\n",
            "Iteration 170, loss = 0.00022956\n",
            "Iteration 171, loss = 0.00022532\n",
            "Iteration 172, loss = 0.00023372\n",
            "Iteration 173, loss = 0.00021690\n",
            "Iteration 174, loss = 0.00021612\n",
            "Iteration 175, loss = 0.00021263\n",
            "Iteration 176, loss = 0.00020665\n",
            "Iteration 177, loss = 0.00022470\n",
            "Iteration 178, loss = 0.00023715\n",
            "Iteration 179, loss = 0.00023391\n",
            "Iteration 180, loss = 0.00019517\n",
            "Iteration 181, loss = 0.00021572\n",
            "Iteration 182, loss = 0.00019730\n",
            "Iteration 183, loss = 0.00019057\n",
            "Iteration 184, loss = 0.00018237\n",
            "Iteration 185, loss = 0.00018712\n",
            "Iteration 186, loss = 0.00017934\n",
            "Iteration 187, loss = 0.00017811\n",
            "Iteration 188, loss = 0.00017525\n",
            "Iteration 189, loss = 0.00017282\n",
            "Iteration 190, loss = 0.00016774\n",
            "Iteration 191, loss = 0.00016272\n",
            "Iteration 192, loss = 0.00016585\n",
            "Iteration 193, loss = 0.00019437\n",
            "Iteration 194, loss = 0.00016797\n",
            "Iteration 195, loss = 0.00015451\n",
            "Iteration 196, loss = 0.00015733\n",
            "Iteration 197, loss = 0.00015345\n",
            "Iteration 198, loss = 0.00015796\n",
            "Iteration 199, loss = 0.00015241\n",
            "Iteration 200, loss = 0.00014770\n",
            "[0 1 1 ... 0 1 0]\n",
            "acurracy:\n",
            " 0.9575384615384616\n"
          ],
          "name": "stdout"
        },
        {
          "output_type": "stream",
          "text": [
            "/usr/local/lib/python3.6/dist-packages/sklearn/neural_network/_multilayer_perceptron.py:571: ConvergenceWarning: Stochastic Optimizer: Maximum iterations (200) reached and the optimization hasn't converged yet.\n",
            "  % self.max_iter, ConvergenceWarning)\n"
          ],
          "name": "stderr"
        }
      ]
    },
    {
      "cell_type": "code",
      "metadata": {
        "colab": {
          "base_uri": "https://localhost:8080/",
          "height": 316
        },
        "id": "dvkZFsu_hvSV",
        "outputId": "62c4fb83-87b3-47b6-875a-8a99505385bf"
      },
      "source": [
        "import keras\n",
        "from keras.models import Sequential\n",
        "from keras.layers import Dense\n",
        "import keras.utils\n",
        "import tensorflow\n",
        "from sklearn.model_selection import train_test_split\n",
        "from keras import backend as K\n",
        "from keras.callbacks import EarlyStopping\n",
        "from matplotlib import pyplot\n",
        "\n",
        "X = np.asarray(X).astype('float32')\n",
        "# y = np.asarray(ohe_labels).astype('float32')\n",
        "X_train,X_test,y_train,y_test = train_test_split(X,y,test_size=0.1, random_state=4)\n",
        "\n",
        "print(y_train)\n",
        "\n",
        "model = Sequential()\n",
        "model.add(Dense(350, input_dim=21, activation='relu'))\n",
        "model.add(Dense(100, activation='relu'))\n",
        "model.add(Dense(80, activation='relu'))\n",
        "model.add(Dense(50, activation='relu'))\n",
        "model.add(Dense(15, activation='relu'))\n",
        "model.add(Dense(1, activation='sigmoid'))\n",
        "model.compile(loss='binary_crossentropy',optimizer=\"sgd\" ,metrics=['accuracy'])\n",
        "es = EarlyStopping(monitor='val_loss', mode='min', verbose=1, patience=2)\n",
        "history = model.fit(X_train, y_train,  validation_data=(X_test, y_test), epochs=200, verbose=0, callbacks=[es])\n",
        "# evaluate the model\n",
        "_, train_acc = model.evaluate(X_train, y_train, verbose=0)\n",
        "_, test_acc = model.evaluate(X_test, y_test, verbose=0)\n",
        "print('Train: %.3f, Test: %.3f' % (train_acc, test_acc))\n",
        "# plot training history\n",
        "pyplot.plot(history.history['loss'], label='train')\n",
        "pyplot.plot(history.history['val_loss'], label='test')\n",
        "pyplot.legend()\n",
        "pyplot.show()"
      ],
      "execution_count": null,
      "outputs": [
        {
          "output_type": "stream",
          "text": [
            "[0 0 0 ... 0 0 0]\n",
            "Epoch 00016: early stopping\n",
            "Train: 0.939, Test: 0.954\n"
          ],
          "name": "stdout"
        },
        {
          "output_type": "display_data",
          "data": {
            "image/png": "[encoded data removed]",
            "text/plain": [
              "<Figure size 432x288 with 1 Axes>"
            ]
          },
          "metadata": {
            "tags": [],
            "needs_background": "light"
          }
        }
      ]
    },
    {
      "cell_type": "code",
      "metadata": {
        "colab": {
          "base_uri": "https://localhost:8080/"
        },
        "id": "hS7A0xMO9rOH",
        "outputId": "bb2dc59e-94e0-4ce1-ee78-41d914b862c9"
      },
      "source": [
        "from google.colab import drive\n",
        "drive.mount('/content/drive')"
      ],
      "execution_count": null,
      "outputs": [
        {
          "output_type": "stream",
          "text": [
            "Mounted at /content/drive\n"
          ],
          "name": "stdout"
        }
      ]
    }
  ]
}