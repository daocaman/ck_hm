{
 "metadata": {
  "language_info": {
   "codemirror_mode": {
    "name": "ipython",
    "version": 3
   },
   "file_extension": ".py",
   "mimetype": "text/x-python",
   "name": "python",
   "nbconvert_exporter": "python",
   "pygments_lexer": "ipython3",
   "version": "3.7.4-final"
  },
  "orig_nbformat": 2,
  "kernelspec": {
   "name": "python3",
   "display_name": "Python 3"
  }
 },
 "nbformat": 4,
 "nbformat_minor": 2,
 "cells": [
  {
   "cell_type": "code",
   "execution_count": 1,
   "metadata": {},
   "outputs": [],
   "source": [
    "# Câu 01\n",
    "# Data: Iris data\n",
    "# Thư viện: \n",
    "# - pandas: Đọc file data, xử lý dữ liệu\n",
    "# - Numpy: xử lý mảng\n",
    "# - skleran tiền xử lý dư liệu\n",
    "# Mô tả\n",
    "# Link tham khảo: https://vimentor.com/vi/lesson/tien-xu-ly-du-lieu-trong-linh-vuc-hoc-may-phan-3   "
   ]
  },
  {
   "cell_type": "code",
   "execution_count": 2,
   "metadata": {},
   "outputs": [],
   "source": [
    "# Thư viện\n",
    "import pandas as pd\n",
    "import numpy as np\n",
    "from sklearn import preprocessing as pp\n",
    "from sklearn.preprocessing import LabelEncoder\n"
   ]
  },
  {
   "cell_type": "code",
   "execution_count": 3,
   "metadata": {},
   "outputs": [
    {
     "output_type": "stream",
     "name": "stdout",
     "text": [
      "Dữ liệu: \n      5.1  3.5  1.4  0.2     Iris-setosa\n0    4.9  3.0  1.4  0.2     Iris-setosa\n1    4.7  3.2  1.3  0.2     Iris-setosa\n2    4.6  3.1  1.5  0.2     Iris-setosa\n3    5.0  3.6  1.4  0.2     Iris-setosa\n4    5.4  3.9  1.7  0.4     Iris-setosa\n..   ...  ...  ...  ...             ...\n144  6.7  3.0  5.2  2.3  Iris-virginica\n145  6.3  2.5  5.0  1.9  Iris-virginica\n146  6.5  3.0  5.2  2.0  Iris-virginica\n147  6.2  3.4  5.4  2.3  Iris-virginica\n148  5.9  3.0  5.1  1.8  Iris-virginica\n\n[149 rows x 5 columns]\nThông tin dư liêu: \n\n<class 'pandas.core.frame.DataFrame'>\nRangeIndex: 149 entries, 0 to 148\nData columns (total 5 columns):\n #   Column       Non-Null Count  Dtype  \n---  ------       --------------  -----  \n 0   5.1          149 non-null    float64\n 1   3.5          149 non-null    float64\n 2   1.4          149 non-null    float64\n 3   0.2          149 non-null    float64\n 4   Iris-setosa  149 non-null    object \ndtypes: float64(4), object(1)\nmemory usage: 5.3+ KB\n"
     ]
    }
   ],
   "source": [
    "df = pd.read_csv('iris.data')\n",
    "print(\"Dữ liệu: \\n\",df)\n",
    "\n",
    "print(\"Thông tin dư liêu: \\n\")\n",
    "df.info()\n"
   ]
  },
  {
   "cell_type": "code",
   "execution_count": 5,
   "metadata": {},
   "outputs": [
    {
     "output_type": "stream",
     "name": "stdout",
     "text": [
      "Trung tâm hóa dư liệu/ Centering data\nKết quả sau chuẩn hóa: \n"
     ]
    },
    {
     "output_type": "execute_result",
     "data": {
      "text/plain": [
       "          5.1       3.5       1.4       0.2     Iris-setosa\n",
       "0   -0.948322 -0.051007 -2.374497 -1.005369     Iris-setosa\n",
       "1   -1.148322  0.148993 -2.474497 -1.005369     Iris-setosa\n",
       "2   -1.248322  0.048993 -2.274497 -1.005369     Iris-setosa\n",
       "3   -0.848322  0.548993 -2.374497 -1.005369     Iris-setosa\n",
       "4   -0.448322  0.848993 -2.074497 -0.805369     Iris-setosa\n",
       "..        ...       ...       ...       ...             ...\n",
       "144  0.851678 -0.051007  1.425503  1.094631  Iris-virginica\n",
       "145  0.451678 -0.551007  1.225503  0.694631  Iris-virginica\n",
       "146  0.651678 -0.051007  1.425503  0.794631  Iris-virginica\n",
       "147  0.351678  0.348993  1.625503  1.094631  Iris-virginica\n",
       "148  0.051678 -0.051007  1.325503  0.594631  Iris-virginica\n",
       "\n",
       "[149 rows x 5 columns]"
      ],
      "text/html": "<div>\n<style scoped>\n    .dataframe tbody tr th:only-of-type {\n        vertical-align: middle;\n    }\n\n    .dataframe tbody tr th {\n        vertical-align: top;\n    }\n\n    .dataframe thead th {\n        text-align: right;\n    }\n</style>\n<table border=\"1\" class=\"dataframe\">\n  <thead>\n    <tr style=\"text-align: right;\">\n      <th></th>\n      <th>5.1</th>\n      <th>3.5</th>\n      <th>1.4</th>\n      <th>0.2</th>\n      <th>Iris-setosa</th>\n    </tr>\n  </thead>\n  <tbody>\n    <tr>\n      <th>0</th>\n      <td>-0.948322</td>\n      <td>-0.051007</td>\n      <td>-2.374497</td>\n      <td>-1.005369</td>\n      <td>Iris-setosa</td>\n    </tr>\n    <tr>\n      <th>1</th>\n      <td>-1.148322</td>\n      <td>0.148993</td>\n      <td>-2.474497</td>\n      <td>-1.005369</td>\n      <td>Iris-setosa</td>\n    </tr>\n    <tr>\n      <th>2</th>\n      <td>-1.248322</td>\n      <td>0.048993</td>\n      <td>-2.274497</td>\n      <td>-1.005369</td>\n      <td>Iris-setosa</td>\n    </tr>\n    <tr>\n      <th>3</th>\n      <td>-0.848322</td>\n      <td>0.548993</td>\n      <td>-2.374497</td>\n      <td>-1.005369</td>\n      <td>Iris-setosa</td>\n    </tr>\n    <tr>\n      <th>4</th>\n      <td>-0.448322</td>\n      <td>0.848993</td>\n      <td>-2.074497</td>\n      <td>-0.805369</td>\n      <td>Iris-setosa</td>\n    </tr>\n    <tr>\n      <th>...</th>\n      <td>...</td>\n      <td>...</td>\n      <td>...</td>\n      <td>...</td>\n      <td>...</td>\n    </tr>\n    <tr>\n      <th>144</th>\n      <td>0.851678</td>\n      <td>-0.051007</td>\n      <td>1.425503</td>\n      <td>1.094631</td>\n      <td>Iris-virginica</td>\n    </tr>\n    <tr>\n      <th>145</th>\n      <td>0.451678</td>\n      <td>-0.551007</td>\n      <td>1.225503</td>\n      <td>0.694631</td>\n      <td>Iris-virginica</td>\n    </tr>\n    <tr>\n      <th>146</th>\n      <td>0.651678</td>\n      <td>-0.051007</td>\n      <td>1.425503</td>\n      <td>0.794631</td>\n      <td>Iris-virginica</td>\n    </tr>\n    <tr>\n      <th>147</th>\n      <td>0.351678</td>\n      <td>0.348993</td>\n      <td>1.625503</td>\n      <td>1.094631</td>\n      <td>Iris-virginica</td>\n    </tr>\n    <tr>\n      <th>148</th>\n      <td>0.051678</td>\n      <td>-0.051007</td>\n      <td>1.325503</td>\n      <td>0.594631</td>\n      <td>Iris-virginica</td>\n    </tr>\n  </tbody>\n</table>\n<p>149 rows × 5 columns</p>\n</div>"
     },
     "metadata": {},
     "execution_count": 5
    }
   ],
   "source": [
    "print(\"Trung tâm hóa dư liệu/ Centering data\")\n",
    "tmpCenter = df.copy()\n",
    "\n",
    "tmpCenter.iloc[:, 0:4] = tmpCenter.iloc[:,0:4] - np.mean(tmpCenter.iloc[:,0:4], axis=0)\n",
    "\n",
    "print(\"Kết quả sau chuẩn hóa: \")\n",
    "tmpCenter"
   ]
  },
  {
   "cell_type": "code",
   "execution_count": 56,
   "metadata": {},
   "outputs": [
    {
     "output_type": "stream",
     "name": "stdout",
     "text": [
      "Chuẩn hóa dữ liệu co giãn/ min max scaler\nKết quả sau khi chuẩn hóa\n"
     ]
    },
    {
     "output_type": "execute_result",
     "data": {
      "text/plain": [
       "          5.1       3.5       1.4       0.2     Iris-setosa\n",
       "0    0.166667  0.416667  0.067797  0.041667     Iris-setosa\n",
       "1    0.111111  0.500000  0.050847  0.041667     Iris-setosa\n",
       "2    0.083333  0.458333  0.084746  0.041667     Iris-setosa\n",
       "3    0.194444  0.666667  0.067797  0.041667     Iris-setosa\n",
       "4    0.305556  0.791667  0.118644  0.125000     Iris-setosa\n",
       "..        ...       ...       ...       ...             ...\n",
       "144  0.666667  0.416667  0.711864  0.916667  Iris-virginica\n",
       "145  0.555556  0.208333  0.677966  0.750000  Iris-virginica\n",
       "146  0.611111  0.416667  0.711864  0.791667  Iris-virginica\n",
       "147  0.527778  0.583333  0.745763  0.916667  Iris-virginica\n",
       "148  0.444444  0.416667  0.694915  0.708333  Iris-virginica\n",
       "\n",
       "[149 rows x 5 columns]"
      ],
      "text/html": "<div>\n<style scoped>\n    .dataframe tbody tr th:only-of-type {\n        vertical-align: middle;\n    }\n\n    .dataframe tbody tr th {\n        vertical-align: top;\n    }\n\n    .dataframe thead th {\n        text-align: right;\n    }\n</style>\n<table border=\"1\" class=\"dataframe\">\n  <thead>\n    <tr style=\"text-align: right;\">\n      <th></th>\n      <th>5.1</th>\n      <th>3.5</th>\n      <th>1.4</th>\n      <th>0.2</th>\n      <th>Iris-setosa</th>\n    </tr>\n  </thead>\n  <tbody>\n    <tr>\n      <th>0</th>\n      <td>0.166667</td>\n      <td>0.416667</td>\n      <td>0.067797</td>\n      <td>0.041667</td>\n      <td>Iris-setosa</td>\n    </tr>\n    <tr>\n      <th>1</th>\n      <td>0.111111</td>\n      <td>0.500000</td>\n      <td>0.050847</td>\n      <td>0.041667</td>\n      <td>Iris-setosa</td>\n    </tr>\n    <tr>\n      <th>2</th>\n      <td>0.083333</td>\n      <td>0.458333</td>\n      <td>0.084746</td>\n      <td>0.041667</td>\n      <td>Iris-setosa</td>\n    </tr>\n    <tr>\n      <th>3</th>\n      <td>0.194444</td>\n      <td>0.666667</td>\n      <td>0.067797</td>\n      <td>0.041667</td>\n      <td>Iris-setosa</td>\n    </tr>\n    <tr>\n      <th>4</th>\n      <td>0.305556</td>\n      <td>0.791667</td>\n      <td>0.118644</td>\n      <td>0.125000</td>\n      <td>Iris-setosa</td>\n    </tr>\n    <tr>\n      <th>...</th>\n      <td>...</td>\n      <td>...</td>\n      <td>...</td>\n      <td>...</td>\n      <td>...</td>\n    </tr>\n    <tr>\n      <th>144</th>\n      <td>0.666667</td>\n      <td>0.416667</td>\n      <td>0.711864</td>\n      <td>0.916667</td>\n      <td>Iris-virginica</td>\n    </tr>\n    <tr>\n      <th>145</th>\n      <td>0.555556</td>\n      <td>0.208333</td>\n      <td>0.677966</td>\n      <td>0.750000</td>\n      <td>Iris-virginica</td>\n    </tr>\n    <tr>\n      <th>146</th>\n      <td>0.611111</td>\n      <td>0.416667</td>\n      <td>0.711864</td>\n      <td>0.791667</td>\n      <td>Iris-virginica</td>\n    </tr>\n    <tr>\n      <th>147</th>\n      <td>0.527778</td>\n      <td>0.583333</td>\n      <td>0.745763</td>\n      <td>0.916667</td>\n      <td>Iris-virginica</td>\n    </tr>\n    <tr>\n      <th>148</th>\n      <td>0.444444</td>\n      <td>0.416667</td>\n      <td>0.694915</td>\n      <td>0.708333</td>\n      <td>Iris-virginica</td>\n    </tr>\n  </tbody>\n</table>\n<p>149 rows × 5 columns</p>\n</div>"
     },
     "metadata": {},
     "execution_count": 56
    }
   ],
   "source": [
    "print(\"Chuẩn hóa dữ liệu co giãn/ min max scaler\")\n",
    "mms = pp.MinMaxScaler()\n",
    "\n",
    "tmpMinMax = df.copy()\n",
    "\n",
    "tmpMinMax.iloc[:,0:4] = mms.fit_transform(tmpMinMax.iloc[:,0:4])\n",
    "\n",
    "print(\"Kết quả sau khi chuẩn hóa\")\n",
    "tmpMinMax\n"
   ]
  },
  {
   "cell_type": "code",
   "execution_count": 6,
   "metadata": {},
   "outputs": [
    {
     "output_type": "stream",
     "name": "stdout",
     "text": [
      "Chuẩn hóa dữ liệu/ co giãn trung bình\n          5.1       3.5       1.4       0.2     Iris-setosa\n0   -0.263423 -0.021253 -0.402457 -0.418904     Iris-setosa\n1   -0.318978  0.062081 -0.419406 -0.418904     Iris-setosa\n2   -0.346756  0.020414 -0.385508 -0.418904     Iris-setosa\n3   -0.235645  0.228747 -0.402457 -0.418904     Iris-setosa\n4   -0.124534  0.353747 -0.351610 -0.335570     Iris-setosa\n..        ...       ...       ...       ...             ...\n144  0.236577 -0.021253  0.241611  0.456096  Iris-virginica\n145  0.125466 -0.229586  0.207712  0.289430  Iris-virginica\n146  0.181022 -0.021253  0.241611  0.331096  Iris-virginica\n147  0.097688  0.145414  0.275509  0.456096  Iris-virginica\n148  0.014355 -0.021253  0.224662  0.247763  Iris-virginica\n\n[149 rows x 5 columns]\n"
     ]
    }
   ],
   "source": [
    "print(\"Chuẩn hóa dữ liệu/ co giãn trung bình\")\n",
    "tmpMean = df.copy()\n",
    "\n",
    "mmin = tmpMean.iloc[:,0:4].min(axis=0)\n",
    "\n",
    "mmax = tmpMean.iloc[:,0:4].max(axis=0)\n",
    "\n",
    "maverage = tmpMean.iloc[:,0:4].mean(axis=0)\n",
    "\n",
    "tmpMean.iloc[:,0:4] = (tmpMean.iloc[:,0:4] - maverage)\n",
    "\n",
    "tmpMean.iloc[:,0:4] = np.divide(tmpMean.iloc[:,0:4], np.array(mmax - mmin))\n",
    "\n",
    "print(tmpMean)"
   ]
  },
  {
   "cell_type": "code",
   "execution_count": 58,
   "metadata": {},
   "outputs": [
    {
     "output_type": "stream",
     "name": "stdout",
     "text": [
      "Chuẩn hóa dư liệu \n          5.1       3.5       1.4       0.2     Iris-setosa\n0   -1.148356 -0.118060 -1.353964 -1.325063     Iris-setosa\n1   -1.390542  0.344859 -1.410986 -1.325063     Iris-setosa\n2   -1.511636  0.113399 -1.296943 -1.325063     Iris-setosa\n3   -1.027262  1.270695 -1.353964 -1.325063     Iris-setosa\n4   -0.542889  1.965072 -1.182901 -1.061466     Iris-setosa\n..        ...       ...       ...       ...             ...\n144  1.031326 -0.118060  0.812838  1.442709  Iris-virginica\n145  0.546952 -1.275355  0.698796  0.915514  Iris-virginica\n146  0.789139 -0.118060  0.812838  1.047313  Iris-virginica\n147  0.425859  0.807777  0.926880  1.442709  Iris-virginica\n148  0.062578 -0.118060  0.755817  0.783716  Iris-virginica\n\n[149 rows x 5 columns]\n"
     ]
    }
   ],
   "source": [
    "print('Chuẩn hóa dư liệu theo chính quy hóa')\n",
    "\n",
    "tmpStandard = df.copy()\n",
    "\n",
    "std = pp.StandardScaler()\n",
    "\n",
    "tmpStandard.iloc[:, 0:4] = std.fit_transform(tmpStandard.iloc[:, 0:4] )\n",
    "\n",
    "print(tmpStandard)"
   ]
  },
  {
   "cell_type": "code",
   "execution_count": 8,
   "metadata": {},
   "outputs": [
    {
     "output_type": "stream",
     "name": "stdout",
     "text": [
      "Chuẩn hóa dư liệu dạng chư quy về dạng số\n"
     ]
    },
    {
     "output_type": "execute_result",
     "data": {
      "text/plain": [
       "     5.1  3.5  1.4  0.2  Iris-setosa\n",
       "0    4.9  3.0  1.4  0.2            0\n",
       "1    4.7  3.2  1.3  0.2            0\n",
       "2    4.6  3.1  1.5  0.2            0\n",
       "3    5.0  3.6  1.4  0.2            0\n",
       "4    5.4  3.9  1.7  0.4            0\n",
       "..   ...  ...  ...  ...          ...\n",
       "144  6.7  3.0  5.2  2.3            2\n",
       "145  6.3  2.5  5.0  1.9            2\n",
       "146  6.5  3.0  5.2  2.0            2\n",
       "147  6.2  3.4  5.4  2.3            2\n",
       "148  5.9  3.0  5.1  1.8            2\n",
       "\n",
       "[149 rows x 5 columns]"
      ],
      "text/html": "<div>\n<style scoped>\n    .dataframe tbody tr th:only-of-type {\n        vertical-align: middle;\n    }\n\n    .dataframe tbody tr th {\n        vertical-align: top;\n    }\n\n    .dataframe thead th {\n        text-align: right;\n    }\n</style>\n<table border=\"1\" class=\"dataframe\">\n  <thead>\n    <tr style=\"text-align: right;\">\n      <th></th>\n      <th>5.1</th>\n      <th>3.5</th>\n      <th>1.4</th>\n      <th>0.2</th>\n      <th>Iris-setosa</th>\n    </tr>\n  </thead>\n  <tbody>\n    <tr>\n      <th>0</th>\n      <td>4.9</td>\n      <td>3.0</td>\n      <td>1.4</td>\n      <td>0.2</td>\n      <td>0</td>\n    </tr>\n    <tr>\n      <th>1</th>\n      <td>4.7</td>\n      <td>3.2</td>\n      <td>1.3</td>\n      <td>0.2</td>\n      <td>0</td>\n    </tr>\n    <tr>\n      <th>2</th>\n      <td>4.6</td>\n      <td>3.1</td>\n      <td>1.5</td>\n      <td>0.2</td>\n      <td>0</td>\n    </tr>\n    <tr>\n      <th>3</th>\n      <td>5.0</td>\n      <td>3.6</td>\n      <td>1.4</td>\n      <td>0.2</td>\n      <td>0</td>\n    </tr>\n    <tr>\n      <th>4</th>\n      <td>5.4</td>\n      <td>3.9</td>\n      <td>1.7</td>\n      <td>0.4</td>\n      <td>0</td>\n    </tr>\n    <tr>\n      <th>...</th>\n      <td>...</td>\n      <td>...</td>\n      <td>...</td>\n      <td>...</td>\n      <td>...</td>\n    </tr>\n    <tr>\n      <th>144</th>\n      <td>6.7</td>\n      <td>3.0</td>\n      <td>5.2</td>\n      <td>2.3</td>\n      <td>2</td>\n    </tr>\n    <tr>\n      <th>145</th>\n      <td>6.3</td>\n      <td>2.5</td>\n      <td>5.0</td>\n      <td>1.9</td>\n      <td>2</td>\n    </tr>\n    <tr>\n      <th>146</th>\n      <td>6.5</td>\n      <td>3.0</td>\n      <td>5.2</td>\n      <td>2.0</td>\n      <td>2</td>\n    </tr>\n    <tr>\n      <th>147</th>\n      <td>6.2</td>\n      <td>3.4</td>\n      <td>5.4</td>\n      <td>2.3</td>\n      <td>2</td>\n    </tr>\n    <tr>\n      <th>148</th>\n      <td>5.9</td>\n      <td>3.0</td>\n      <td>5.1</td>\n      <td>1.8</td>\n      <td>2</td>\n    </tr>\n  </tbody>\n</table>\n<p>149 rows × 5 columns</p>\n</div>"
     },
     "metadata": {},
     "execution_count": 8
    }
   ],
   "source": [
    "LE = LabelEncoder()\n",
    "tmpEncode = df.copy()\n",
    "\n",
    "tmpEncode.iloc[:,4] = LE.fit_transform(tmpEncode.iloc[:,4])\n",
    "\n",
    "print('Chuẩn hóa dư liệu dạng chư quy về dạng số')\n",
    "tmpEncode"
   ]
  },
  {
   "cell_type": "code",
   "execution_count": null,
   "metadata": {},
   "outputs": [],
   "source": []
  }
 ]
}